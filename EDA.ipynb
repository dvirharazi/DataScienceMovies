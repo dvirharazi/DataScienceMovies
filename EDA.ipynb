{
 "cells": [
  {
   "cell_type": "code",
   "execution_count": 84,
   "id": "f73d1898",
   "metadata": {},
   "outputs": [],
   "source": [
    "import numpy as np\n",
    "import pandas as pd\n",
    "import matplotlib as plot\n",
    "from matplotlib import pyplot as plt\n",
    "import seaborn as sns\n",
    "%matplotlib inline"
   ]
  },
  {
   "cell_type": "code",
   "execution_count": null,
   "id": "c3e17933",
   "metadata": {},
   "outputs": [],
   "source": []
  },
  {
   "cell_type": "code",
   "execution_count": 85,
   "id": "decfeaa2",
   "metadata": {},
   "outputs": [],
   "source": [
    "#EDA\n",
    "\n",
    "def clear_genres(df, genre_counts):\n",
    "    genres_to_delete = []\n",
    "    for genre in genre_counts.items():\n",
    "        if(genre[1] < 200):\n",
    "            genres_to_delete.append(genre[0])\n",
    "            \n",
    "    for genre in genres_to_delete:\n",
    "        df = df[df['genre_1'] != genre]\n",
    "        df = df[df['genre_2'] != genre]\n",
    "        df = df[df['genre_3'] != genre]\n",
    "    df = df.drop(df.columns[0], axis=1)\n",
    "    df = df.reset_index(drop=True)\n",
    "    return df \n",
    "\n",
    "\n",
    "    \n"
   ]
  },
  {
   "cell_type": "code",
   "execution_count": 86,
   "id": "2a4c8d47",
   "metadata": {},
   "outputs": [],
   "source": [
    "def change_to_numeric(df, col_to_change):  ##[genre_1, genre_2,genre_3]\n",
    "    values_dict = dict()\n",
    "    values_dict[np.nan] = 0\n",
    "    value = 1\n",
    "    number_of_col = len(col_to_change)\n",
    "    for i in range(number_of_col):\n",
    "        genres = df[col_to_change[i]]\n",
    "        for genre in genres:\n",
    "            if genre not in values_dict:\n",
    "                values_dict[genre] = value\n",
    "                value += 1\n",
    "                \n",
    "    for i in range(number_of_col):\n",
    "        df = df.replace({col_to_change[i]:values_dict})\n",
    "\n",
    "    return df\n",
    "        \n",
    "            \n",
    "    "
   ]
  },
  {
   "cell_type": "code",
   "execution_count": 87,
   "id": "6051d0e0",
   "metadata": {},
   "outputs": [
    {
     "data": {
      "text/html": [
       "<div>\n",
       "<style scoped>\n",
       "    .dataframe tbody tr th:only-of-type {\n",
       "        vertical-align: middle;\n",
       "    }\n",
       "\n",
       "    .dataframe tbody tr th {\n",
       "        vertical-align: top;\n",
       "    }\n",
       "\n",
       "    .dataframe thead th {\n",
       "        text-align: right;\n",
       "    }\n",
       "</style>\n",
       "<table border=\"1\" class=\"dataframe\">\n",
       "  <thead>\n",
       "    <tr style=\"text-align: right;\">\n",
       "      <th></th>\n",
       "      <th>Unnamed: 0</th>\n",
       "      <th>name</th>\n",
       "      <th>Length Of Movie (minute)</th>\n",
       "      <th>year</th>\n",
       "      <th>idbm_year</th>\n",
       "      <th>gender_director</th>\n",
       "      <th>director_1</th>\n",
       "      <th>writer_1</th>\n",
       "      <th>writer_2</th>\n",
       "      <th>writer_3</th>\n",
       "      <th>star_1</th>\n",
       "      <th>star_2</th>\n",
       "      <th>star_3</th>\n",
       "      <th>genre_1</th>\n",
       "      <th>genre_2</th>\n",
       "      <th>genre_3</th>\n",
       "      <th>rating</th>\n",
       "    </tr>\n",
       "  </thead>\n",
       "  <tbody>\n",
       "    <tr>\n",
       "      <th>0</th>\n",
       "      <td>0</td>\n",
       "      <td>Adam at Six A.M.</td>\n",
       "      <td>100.0</td>\n",
       "      <td>1970</td>\n",
       "      <td>1970</td>\n",
       "      <td>1</td>\n",
       "      <td>Robert Scheerer</td>\n",
       "      <td>Stephen Karpf</td>\n",
       "      <td>Elinor Karpf</td>\n",
       "      <td>NaN</td>\n",
       "      <td>Michael Douglas</td>\n",
       "      <td>Lee Purcell</td>\n",
       "      <td>Joe Don Baker</td>\n",
       "      <td>Drama</td>\n",
       "      <td>NaN</td>\n",
       "      <td>NaN</td>\n",
       "      <td>5.0</td>\n",
       "    </tr>\n",
       "    <tr>\n",
       "      <th>1</th>\n",
       "      <td>1</td>\n",
       "      <td>Adam's Woman</td>\n",
       "      <td>116.0</td>\n",
       "      <td>1970</td>\n",
       "      <td>1970</td>\n",
       "      <td>1</td>\n",
       "      <td>Philip Leacock</td>\n",
       "      <td>Richard Fielder</td>\n",
       "      <td>Lowell Barrington</td>\n",
       "      <td>NaN</td>\n",
       "      <td>Beau Bridges</td>\n",
       "      <td>John Mills</td>\n",
       "      <td>Jane Merrow</td>\n",
       "      <td>Drama</td>\n",
       "      <td>NaN</td>\n",
       "      <td>NaN</td>\n",
       "      <td>6.0</td>\n",
       "    </tr>\n",
       "    <tr>\n",
       "      <th>2</th>\n",
       "      <td>2</td>\n",
       "      <td>The Adventurers</td>\n",
       "      <td>171.0</td>\n",
       "      <td>1970</td>\n",
       "      <td>1970</td>\n",
       "      <td>1</td>\n",
       "      <td>Lewis Gilbert</td>\n",
       "      <td>Michael Hastings</td>\n",
       "      <td>Lewis Gilbert</td>\n",
       "      <td>Harold Robbins</td>\n",
       "      <td>Charles Aznavour</td>\n",
       "      <td>Alan Badel</td>\n",
       "      <td>Candice Bergen</td>\n",
       "      <td>Action</td>\n",
       "      <td>Adventure</td>\n",
       "      <td>Drama</td>\n",
       "      <td>5.0</td>\n",
       "    </tr>\n",
       "    <tr>\n",
       "      <th>3</th>\n",
       "      <td>3</td>\n",
       "      <td>Airport</td>\n",
       "      <td>137.0</td>\n",
       "      <td>1970</td>\n",
       "      <td>1970</td>\n",
       "      <td>1</td>\n",
       "      <td>George Seaton</td>\n",
       "      <td>Arthur Hailey</td>\n",
       "      <td>George Seaton</td>\n",
       "      <td>NaN</td>\n",
       "      <td>Burt Lancaster</td>\n",
       "      <td>Dean Martin</td>\n",
       "      <td>George Kennedy</td>\n",
       "      <td>Action</td>\n",
       "      <td>Drama</td>\n",
       "      <td>Thriller</td>\n",
       "      <td>6.0</td>\n",
       "    </tr>\n",
       "    <tr>\n",
       "      <th>4</th>\n",
       "      <td>4</td>\n",
       "      <td>Alex in Wonderland</td>\n",
       "      <td>110.0</td>\n",
       "      <td>1970</td>\n",
       "      <td>1970</td>\n",
       "      <td>1</td>\n",
       "      <td>Paul Mazursky</td>\n",
       "      <td>Paul Mazursky</td>\n",
       "      <td>Larry Tucker</td>\n",
       "      <td>NaN</td>\n",
       "      <td>Donald Sutherland</td>\n",
       "      <td>Ellen Burstyn</td>\n",
       "      <td>Meg Mazursky</td>\n",
       "      <td>Comedy</td>\n",
       "      <td>Drama</td>\n",
       "      <td>NaN</td>\n",
       "      <td>5.0</td>\n",
       "    </tr>\n",
       "    <tr>\n",
       "      <th>...</th>\n",
       "      <td>...</td>\n",
       "      <td>...</td>\n",
       "      <td>...</td>\n",
       "      <td>...</td>\n",
       "      <td>...</td>\n",
       "      <td>...</td>\n",
       "      <td>...</td>\n",
       "      <td>...</td>\n",
       "      <td>...</td>\n",
       "      <td>...</td>\n",
       "      <td>...</td>\n",
       "      <td>...</td>\n",
       "      <td>...</td>\n",
       "      <td>...</td>\n",
       "      <td>...</td>\n",
       "      <td>...</td>\n",
       "      <td>...</td>\n",
       "    </tr>\n",
       "    <tr>\n",
       "      <th>7984</th>\n",
       "      <td>7984</td>\n",
       "      <td>We Can Be Heroes</td>\n",
       "      <td>100.0</td>\n",
       "      <td>2020</td>\n",
       "      <td>2020</td>\n",
       "      <td>1</td>\n",
       "      <td>Robert Rodriguez</td>\n",
       "      <td>Robert Rodriguez</td>\n",
       "      <td>Sara Endsley</td>\n",
       "      <td>Dan Foos</td>\n",
       "      <td>YaYa Gosselin</td>\n",
       "      <td>Pedro Pascal</td>\n",
       "      <td>Priyanka Chopra Jonas</td>\n",
       "      <td>Action</td>\n",
       "      <td>Comedy</td>\n",
       "      <td>Drama</td>\n",
       "      <td>4.0</td>\n",
       "    </tr>\n",
       "    <tr>\n",
       "      <th>7985</th>\n",
       "      <td>7985</td>\n",
       "      <td>News of the World</td>\n",
       "      <td>118.0</td>\n",
       "      <td>2020</td>\n",
       "      <td>2020</td>\n",
       "      <td>1</td>\n",
       "      <td>Paul Greengrass</td>\n",
       "      <td>Paul Greengrass</td>\n",
       "      <td>Luke Davies</td>\n",
       "      <td>Paulette Jiles</td>\n",
       "      <td>Tom Hanks</td>\n",
       "      <td>Helena Zengel</td>\n",
       "      <td>Tom Astor</td>\n",
       "      <td>Action</td>\n",
       "      <td>Adventure</td>\n",
       "      <td>Drama</td>\n",
       "      <td>6.0</td>\n",
       "    </tr>\n",
       "    <tr>\n",
       "      <th>7986</th>\n",
       "      <td>7986</td>\n",
       "      <td>One Night in Miami...</td>\n",
       "      <td>114.0</td>\n",
       "      <td>2020</td>\n",
       "      <td>2020</td>\n",
       "      <td>0</td>\n",
       "      <td>Regina King</td>\n",
       "      <td>Kemp Powers</td>\n",
       "      <td>NaN</td>\n",
       "      <td>NaN</td>\n",
       "      <td>Kingsley Ben-Adir</td>\n",
       "      <td>Eli Goree</td>\n",
       "      <td>Aldis Hodge</td>\n",
       "      <td>Drama</td>\n",
       "      <td>NaN</td>\n",
       "      <td>NaN</td>\n",
       "      <td>7.0</td>\n",
       "    </tr>\n",
       "    <tr>\n",
       "      <th>7987</th>\n",
       "      <td>7987</td>\n",
       "      <td>Promising Young Woman</td>\n",
       "      <td>113.0</td>\n",
       "      <td>2020</td>\n",
       "      <td>2020</td>\n",
       "      <td>0</td>\n",
       "      <td>Emerald Fennell</td>\n",
       "      <td>Emerald Fennell</td>\n",
       "      <td>NaN</td>\n",
       "      <td>NaN</td>\n",
       "      <td>Carey Mulligan</td>\n",
       "      <td>Bo Burnham</td>\n",
       "      <td>Alison Brie</td>\n",
       "      <td>Crime</td>\n",
       "      <td>Drama</td>\n",
       "      <td>Mystery</td>\n",
       "      <td>7.0</td>\n",
       "    </tr>\n",
       "    <tr>\n",
       "      <th>7988</th>\n",
       "      <td>7988</td>\n",
       "      <td>Pieces of a Woman</td>\n",
       "      <td>126.0</td>\n",
       "      <td>2020</td>\n",
       "      <td>2020</td>\n",
       "      <td>1</td>\n",
       "      <td>Kornél Mundruczó</td>\n",
       "      <td>Kata Wéber</td>\n",
       "      <td>NaN</td>\n",
       "      <td>NaN</td>\n",
       "      <td>Vanessa Kirby</td>\n",
       "      <td>Shia LaBeouf</td>\n",
       "      <td>Ellen Burstyn</td>\n",
       "      <td>Drama</td>\n",
       "      <td>NaN</td>\n",
       "      <td>NaN</td>\n",
       "      <td>7.0</td>\n",
       "    </tr>\n",
       "  </tbody>\n",
       "</table>\n",
       "<p>7989 rows × 17 columns</p>\n",
       "</div>"
      ],
      "text/plain": [
       "      Unnamed: 0                   name  Length Of Movie (minute)  year  \\\n",
       "0              0       Adam at Six A.M.                     100.0  1970   \n",
       "1              1           Adam's Woman                     116.0  1970   \n",
       "2              2        The Adventurers                     171.0  1970   \n",
       "3              3                Airport                     137.0  1970   \n",
       "4              4     Alex in Wonderland                     110.0  1970   \n",
       "...          ...                    ...                       ...   ...   \n",
       "7984        7984       We Can Be Heroes                     100.0  2020   \n",
       "7985        7985      News of the World                     118.0  2020   \n",
       "7986        7986  One Night in Miami...                     114.0  2020   \n",
       "7987        7987  Promising Young Woman                     113.0  2020   \n",
       "7988        7988      Pieces of a Woman                     126.0  2020   \n",
       "\n",
       "      idbm_year  gender_director        director_1          writer_1  \\\n",
       "0          1970                1   Robert Scheerer     Stephen Karpf   \n",
       "1          1970                1    Philip Leacock   Richard Fielder   \n",
       "2          1970                1     Lewis Gilbert  Michael Hastings   \n",
       "3          1970                1     George Seaton     Arthur Hailey   \n",
       "4          1970                1     Paul Mazursky     Paul Mazursky   \n",
       "...         ...              ...               ...               ...   \n",
       "7984       2020                1  Robert Rodriguez  Robert Rodriguez   \n",
       "7985       2020                1   Paul Greengrass   Paul Greengrass   \n",
       "7986       2020                0       Regina King       Kemp Powers   \n",
       "7987       2020                0   Emerald Fennell   Emerald Fennell   \n",
       "7988       2020                1  Kornél Mundruczó        Kata Wéber   \n",
       "\n",
       "               writer_2        writer_3             star_1         star_2  \\\n",
       "0          Elinor Karpf             NaN    Michael Douglas    Lee Purcell   \n",
       "1     Lowell Barrington             NaN       Beau Bridges     John Mills   \n",
       "2         Lewis Gilbert  Harold Robbins   Charles Aznavour     Alan Badel   \n",
       "3         George Seaton             NaN     Burt Lancaster    Dean Martin   \n",
       "4          Larry Tucker             NaN  Donald Sutherland  Ellen Burstyn   \n",
       "...                 ...             ...                ...            ...   \n",
       "7984       Sara Endsley        Dan Foos      YaYa Gosselin   Pedro Pascal   \n",
       "7985        Luke Davies  Paulette Jiles          Tom Hanks  Helena Zengel   \n",
       "7986                NaN             NaN  Kingsley Ben-Adir      Eli Goree   \n",
       "7987                NaN             NaN     Carey Mulligan     Bo Burnham   \n",
       "7988                NaN             NaN      Vanessa Kirby   Shia LaBeouf   \n",
       "\n",
       "                     star_3 genre_1    genre_2   genre_3  rating  \n",
       "0             Joe Don Baker   Drama        NaN       NaN     5.0  \n",
       "1               Jane Merrow   Drama        NaN       NaN     6.0  \n",
       "2            Candice Bergen  Action  Adventure     Drama     5.0  \n",
       "3            George Kennedy  Action      Drama  Thriller     6.0  \n",
       "4              Meg Mazursky  Comedy      Drama       NaN     5.0  \n",
       "...                     ...     ...        ...       ...     ...  \n",
       "7984  Priyanka Chopra Jonas  Action     Comedy     Drama     4.0  \n",
       "7985              Tom Astor  Action  Adventure     Drama     6.0  \n",
       "7986            Aldis Hodge   Drama        NaN       NaN     7.0  \n",
       "7987            Alison Brie   Crime      Drama   Mystery     7.0  \n",
       "7988          Ellen Burstyn   Drama        NaN       NaN     7.0  \n",
       "\n",
       "[7989 rows x 17 columns]"
      ]
     },
     "execution_count": 87,
     "metadata": {},
     "output_type": "execute_result"
    }
   ],
   "source": [
    "\n",
    "df = pd.read_csv('movie_table_finish.csv')\n",
    "df.head()\n",
    "df['rating'] = df['rating'].apply(np.floor)\n",
    "df\n",
    "\n",
    "\n"
   ]
  },
  {
   "cell_type": "code",
   "execution_count": 97,
   "id": "db915313",
   "metadata": {},
   "outputs": [
    {
     "data": {
      "image/png": "[encoded data removed]",
      "text/plain": [
       "<Figure size 432x288 with 1 Axes>"
      ]
     },
     "metadata": {
      "needs_background": "light"
     },
     "output_type": "display_data"
    }
   ],
   "source": [
    "plt.hist(df['rating']);"
   ]
  },
  {
   "cell_type": "code",
   "execution_count": 88,
   "id": "62844b86",
   "metadata": {},
   "outputs": [
    {
     "data": {
      "text/plain": [
       "Text(0, 0.5, 'Count')"
      ]
     },
     "execution_count": 88,
     "metadata": {},
     "output_type": "execute_result"
    },
    {
     "data": {
      "image/png": "[encoded data removed]",
      "text/plain": [
       "<Figure size 1080x360 with 2 Axes>"
      ]
     },
     "metadata": {
      "needs_background": "light"
     },
     "output_type": "display_data"
    }
   ],
   "source": [
    "##showing Frequency of every Rating\n",
    "fig = plt.figure(figsize=(15, 5))\n",
    "fig1 =fig.add_subplot(1,2,1)\n",
    "fig2 =fig.add_subplot(1,2,2)\n",
    "\n",
    "fig1.hist(df.rating, bins=10,rwidth=0.8, color='red')\n",
    "fig1.set_title('Rating histogram')\n",
    "fig1.set_xlabel('Rating')\n",
    "fig1.set_ylabel('Frequency')\n",
    "fig2.hist(df['Length Of Movie (minute)'], bins=20,rwidth=0.8, color='salmon')\n",
    "fig2.set_title('Length Of Movie')\n",
    "fig2.set_xlabel('Length(minute)')\n",
    "fig2.set_ylabel('Count')\n",
    "\n"
   ]
  },
  {
   "cell_type": "code",
   "execution_count": 89,
   "id": "fe189253",
   "metadata": {},
   "outputs": [
    {
     "data": {
      "image/png": "[encoded data removed]",
      "text/plain": [
       "<Figure size 864x432 with 1 Axes>"
      ]
     },
     "metadata": {
      "needs_background": "light"
     },
     "output_type": "display_data"
    }
   ],
   "source": [
    "counts = df['genre_1'].value_counts()\n",
    "\n",
    "fig, ax = plt.subplots(figsize=(12,6))\n",
    "top_10 = counts[:10] # here we get the most frequent genres in the data set\n",
    "plt.bar(range(10), top_10.values, align='center', tick_label=top_10.keys());\n",
    "plt.title(\"Top 10 frequent genres\");"
   ]
  },
  {
   "cell_type": "code",
   "execution_count": 92,
   "id": "966a5f33",
   "metadata": {},
   "outputs": [
    {
     "data": {
      "text/plain": [
       "Comedy         2460\n",
       "Action         1772\n",
       "Drama          1426\n",
       "Crime           495\n",
       "Adventure       464\n",
       "Biography       381\n",
       "Horror          354\n",
       "Animation       341\n",
       "Documentary     107\n",
       "Name: genre_1, dtype: int64"
      ]
     },
     "execution_count": 92,
     "metadata": {},
     "output_type": "execute_result"
    }
   ],
   "source": [
    "values = ['Music','Musical','Family','Romance','Fantasy','Mystery','War','Short','Sci-Fi','Western','Thriller']\n",
    "\n",
    "#drop rows that contain any value in the list\n",
    "newdf = df[df.genre_1.isin(values) == False]\n",
    "\n",
    "counts = newdf['genre_1'].value_counts()\n",
    "counts"
   ]
  },
  {
   "cell_type": "code",
   "execution_count": 100,
   "id": "5dc0bf91",
   "metadata": {},
   "outputs": [
    {
     "data": {
      "text/plain": [
       "Text(0, 0.5, 'Rating')"
      ]
     },
     "execution_count": 100,
     "metadata": {},
     "output_type": "execute_result"
    },
    {
     "data": {
      "image/png": "[encoded data removed]",
      "text/plain": [
       "<Figure size 432x288 with 1 Axes>"
      ]
     },
     "metadata": {
      "needs_background": "light"
     },
     "output_type": "display_data"
    }
   ],
   "source": [
    "plt.scatter(df['Length Of Movie (minute)'], df['rating'])\n",
    "plt.title('Length Of Movie versus Rating')\n",
    "plt.xlabel('Length Of Movie (minute)')\n",
    "plt.ylabel('Rating')"
   ]
  },
  {
   "cell_type": "code",
   "execution_count": 94,
   "id": "8e9d9b46",
   "metadata": {},
   "outputs": [
    {
     "data": {
      "text/plain": [
       "Text(0, 0.5, 'Genres')"
      ]
     },
     "execution_count": 94,
     "metadata": {},
     "output_type": "execute_result"
    },
    {
     "data": {
      "image/png": "[encoded data removed]",
      "text/plain": [
       "<Figure size 1440x720 with 1 Axes>"
      ]
     },
     "metadata": {
      "needs_background": "light"
     },
     "output_type": "display_data"
    }
   ],
   "source": [
    "\n",
    "ct2 = pd.crosstab(newdf['rating'],newdf['genre_1'],normalize='index')\n",
    "ct2.plot(kind='bar', figsize=(20,10))\n",
    "plt.title('Genres vs Rating', fontsize=10)\n",
    "plt.xlabel('Rating')\n",
    "plt.ylabel('Genres')"
   ]
  },
  {
   "cell_type": "code",
   "execution_count": 95,
   "id": "4a27fa20",
   "metadata": {},
   "outputs": [
    {
     "data": {
      "text/plain": [
       "Text(0, 0.5, 'Count')"
      ]
     },
     "execution_count": 95,
     "metadata": {},
     "output_type": "execute_result"
    },
    {
     "data": {
      "image/png": "[encoded data removed]",
      "text/plain": [
       "<Figure size 1080x360 with 1 Axes>"
      ]
     },
     "metadata": {
      "needs_background": "light"
     },
     "output_type": "display_data"
    }
   ],
   "source": [
    "ct2 = pd.crosstab(df['year'],df['gender_director'],normalize='index')\n",
    "ct2.plot(kind='bar', figsize=(15,5))\n",
    "plt.title('Count Of Women Director Over the years', fontsize=10)\n",
    "plt.xlabel('Year')\n",
    "plt.ylabel('Count')"
   ]
  },
  {
   "cell_type": "code",
   "execution_count": 96,
   "id": "aaefa5a0",
   "metadata": {
    "scrolled": true
   },
   "outputs": [
    {
     "data": {
      "text/plain": [
       "Text(0, 0.5, 'Gender')"
      ]
     },
     "execution_count": 96,
     "metadata": {},
     "output_type": "execute_result"
    },
    {
     "data": {
      "image/png": "[encoded data removed]",
      "text/plain": [
       "<Figure size 1080x360 with 1 Axes>"
      ]
     },
     "metadata": {
      "needs_background": "light"
     },
     "output_type": "display_data"
    }
   ],
   "source": [
    "ct2 = pd.crosstab(df['rating'],df['gender_director'],normalize='index')\n",
    "ct2.plot(kind='bar', figsize=(15,5))\n",
    "plt.title('Rating vs Gender of Director', fontsize=10)\n",
    "plt.xlabel('Rating')\n",
    "plt.ylabel('Gender')\n",
    "\n"
   ]
  },
  {
   "cell_type": "code",
   "execution_count": null,
   "id": "9021c649",
   "metadata": {},
   "outputs": [],
   "source": [
    "plt.scatter(x=df['genre_1'],y=df['rating'],c='r',marker='s',label='genre_1')\n",
    "# plt.scatter(x=df['star_1'],y=df['rating'],c='b',marker='o',label='star_1')\n",
    "plt.scatter(x=df['director_1'],y=df['rating'],c='k',marker='*',label='director_1')\n",
    "\n",
    "plt.legend(numpoints=1,loc=4)\n",
    "plt.xlabel('Ad budget (Thousands of dollars)')\n",
    "plt.ylabel('Sales (units of product)')\n",
    "plt.show()"
   ]
  },
  {
   "cell_type": "code",
   "execution_count": null,
   "id": "dd302bb4",
   "metadata": {},
   "outputs": [],
   "source": []
  },
  {
   "cell_type": "code",
   "execution_count": null,
   "id": "0b9fb951",
   "metadata": {},
   "outputs": [],
   "source": []
  },
  {
   "cell_type": "code",
   "execution_count": null,
   "id": "70ab2d68",
   "metadata": {},
   "outputs": [],
   "source": []
  }
 ],
 "metadata": {
  "kernelspec": {
   "display_name": "Python 3",
   "language": "python",
   "name": "python3"
  },
  "language_info": {
   "codemirror_mode": {
    "name": "ipython",
    "version": 3
   },
   "file_extension": ".py",
   "mimetype": "text/x-python",
   "name": "python",
   "nbconvert_exporter": "python",
   "pygments_lexer": "ipython3",
   "version": "3.8.8"
  }
 },
 "nbformat": 4,
 "nbformat_minor": 5
}
